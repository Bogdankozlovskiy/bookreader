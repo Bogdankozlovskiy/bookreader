{
 "cells": [
  {
   "cell_type": "code",
   "execution_count": 2,
   "metadata": {},
   "outputs": [],
   "source": [
    "from functools import lru_cache\n",
    "from time import sleep"
   ]
  },
  {
   "cell_type": "code",
   "execution_count": 3,
   "metadata": {},
   "outputs": [],
   "source": [
    "class Cat:\n",
    "    @lru_cache()\n",
    "    def do_somthing(self, digit):\n",
    "        sleep(3)\n",
    "        return digit ** 2"
   ]
  },
  {
   "cell_type": "code",
   "execution_count": 4,
   "metadata": {},
   "outputs": [],
   "source": [
    "c1 = Cat()\n",
    "c2 = Cat()"
   ]
  },
  {
   "cell_type": "code",
   "execution_count": 17,
   "metadata": {},
   "outputs": [
    {
     "data": {
      "text/plain": [
       "4"
      ]
     },
     "execution_count": 17,
     "metadata": {},
     "output_type": "execute_result"
    }
   ],
   "source": [
    "c1.do_somthing(2)"
   ]
  },
  {
   "cell_type": "code",
   "execution_count": 18,
   "metadata": {},
   "outputs": [
    {
     "data": {
      "text/plain": [
       "4"
      ]
     },
     "execution_count": 18,
     "metadata": {},
     "output_type": "execute_result"
    }
   ],
   "source": [
    "c2.do_somthing(2)"
   ]
  },
  {
   "cell_type": "code",
   "execution_count": 21,
   "metadata": {},
   "outputs": [
    {
     "data": {
      "text/plain": [
       "1"
      ]
     },
     "execution_count": 21,
     "metadata": {},
     "output_type": "execute_result"
    }
   ],
   "source": [
    "Cat.do_somthing(c2, 1)"
   ]
  },
  {
   "cell_type": "markdown",
   "metadata": {},
   "source": [
    "---"
   ]
  },
  {
   "cell_type": "code",
   "execution_count": 17,
   "metadata": {},
   "outputs": [],
   "source": [
    "from os import listdir, path, getcwd\n",
    "from collections import defaultdict\n",
    "from tkinter import *\n",
    "from tqdm.notebook import tqdm\n",
    "from time import time\n",
    "from pickle import load, dump"
   ]
  },
  {
   "cell_type": "code",
   "execution_count": 8,
   "metadata": {},
   "outputs": [],
   "source": [
    "def metrics(fun):\n",
    "    def wraper(*args, **kwargs):\n",
    "        start_time = time()\n",
    "        result = fun(*args, **kwargs)\n",
    "        print(time() - start_time)\n",
    "        return result\n",
    "    return wraper"
   ]
  },
  {
   "cell_type": "code",
   "execution_count": 2,
   "metadata": {},
   "outputs": [],
   "source": [
    "class Reader:\n",
    "    def __init__(self, work_dir):\n",
    "        arr_book = listdir(work_dir)\n",
    "        self.result = defaultdict(set)\n",
    "        for book in tqdm(arr_book):\n",
    "            abs_path = path.join(getcwd(), work_dir, book)\n",
    "            with open(abs_path) as file:\n",
    "                try:\n",
    "                    content = file.read()\n",
    "                except UnicodeDecodeError:\n",
    "                    with open(abs_path, encoding=\"utf-8\") as file:\n",
    "                        content = file.read()\n",
    "            content = content.replace(\",\", \"\")\n",
    "            content = content.replace(\".\", \"\")\n",
    "            content = content.replace(\":\", \"\")\n",
    "            content = content.lower().split()\n",
    "            content = set(content)\n",
    "            for word in content:\n",
    "                self.result[word].add(book)\n",
    "    \n",
    "    def find_books_title(self, row):\n",
    "        row = row.lower().split(\", \")\n",
    "        out = self.result[row[0]]#.copy()\n",
    "        for word in row[1:]:\n",
    "            out = out & self.result[word]\n",
    "        return out"
   ]
  },
  {
   "cell_type": "code",
   "execution_count": 9,
   "metadata": {},
   "outputs": [],
   "source": [
    "class Window:\n",
    "    def __init__(self, reader):\n",
    "        self._reader = reader\n",
    "        self.root = Tk()\n",
    "        self.entry = Entry(self.root, width=50, font=15)\n",
    "        self.text = Text(self.root, width=50, height=15, font=15)\n",
    "        self.button = Button(self.root, text=\"OK\", width=5, height=19, command=self.button_cl)\n",
    "        self.entry.grid(row=0, column=0)\n",
    "        self.text.grid(row=1, column=0)\n",
    "        self.button.grid(row=0, column=1, rowspan=2)\n",
    "        \n",
    "    @metrics\n",
    "    def button_cl(self):\n",
    "        row = self.entry.get()\n",
    "        out = self._reader.find_books_title(row)\n",
    "        out = \"\\n\".join(out)\n",
    "        self.text.delete(0.0, 'end')\n",
    "        self.text.insert(0.0, out)"
   ]
  },
  {
   "cell_type": "code",
   "execution_count": 11,
   "metadata": {},
   "outputs": [
    {
     "data": {
      "application/vnd.jupyter.widget-view+json": {
       "model_id": "2ec5078b771e429baea49f72a3bcd71c",
       "version_major": 2,
       "version_minor": 0
      },
      "text/plain": [
       "HBox(children=(FloatProgress(value=0.0, max=676.0), HTML(value='')))"
      ]
     },
     "metadata": {},
     "output_type": "display_data"
    },
    {
     "name": "stdout",
     "output_type": "stream",
     "text": [
      "\n",
      "0.0\n",
      "0.0010035037994384766\n"
     ]
    }
   ],
   "source": [
    "reader = Reader(\"books\")\n",
    "Window(reader).root.mainloop()"
   ]
  },
  {
   "cell_type": "code",
   "execution_count": 19,
   "metadata": {},
   "outputs": [],
   "source": [
    "my_dic = {\"1\":2, \"4\":6}"
   ]
  },
  {
   "cell_type": "code",
   "execution_count": 21,
   "metadata": {},
   "outputs": [],
   "source": [
    "dump(my_dic, open(\"file\", \"wb\"))"
   ]
  },
  {
   "cell_type": "code",
   "execution_count": 1,
   "metadata": {},
   "outputs": [],
   "source": [
    "from pickle import load"
   ]
  },
  {
   "cell_type": "code",
   "execution_count": 4,
   "metadata": {},
   "outputs": [
    {
     "data": {
      "text/plain": [
       "{'1': 2, '4': 6}"
      ]
     },
     "execution_count": 4,
     "metadata": {},
     "output_type": "execute_result"
    }
   ],
   "source": [
    "load(open(\"file\", \"rb\"))"
   ]
  }
 ],
 "metadata": {
  "kernelspec": {
   "display_name": "Python 3",
   "language": "python",
   "name": "python3"
  },
  "language_info": {
   "codemirror_mode": {
    "name": "ipython",
    "version": 3
   },
   "file_extension": ".py",
   "mimetype": "text/x-python",
   "name": "python",
   "nbconvert_exporter": "python",
   "pygments_lexer": "ipython3",
   "version": "3.7.3"
  }
 },
 "nbformat": 4,
 "nbformat_minor": 2
}
